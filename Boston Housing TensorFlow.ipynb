{
  "nbformat": 4,
  "nbformat_minor": 0,
  "metadata": {
    "colab": {
      "name": "Boston Housing TensorFlow.ipynb",
      "provenance": []
    },
    "kernelspec": {
      "name": "python3",
      "display_name": "Python 3"
    },
    "language_info": {
      "name": "python"
    }
  },
  "cells": [
    {
      "cell_type": "code",
      "source": [
        "!pip install keras-tuner"
      ],
      "metadata": {
        "colab": {
          "base_uri": "https://localhost:8080/"
        },
        "id": "YEuaUJ26I4aE",
        "outputId": "5b5a79e3-d54e-4646-b674-9648c5b7d681"
      },
      "execution_count": 1,
      "outputs": [
        {
          "output_type": "stream",
          "name": "stdout",
          "text": [
            "Requirement already satisfied: keras-tuner in /usr/local/lib/python3.7/dist-packages (1.1.0)\n",
            "Requirement already satisfied: tensorboard in /usr/local/lib/python3.7/dist-packages (from keras-tuner) (2.7.0)\n",
            "Requirement already satisfied: numpy in /usr/local/lib/python3.7/dist-packages (from keras-tuner) (1.19.5)\n",
            "Requirement already satisfied: kt-legacy in /usr/local/lib/python3.7/dist-packages (from keras-tuner) (1.0.4)\n",
            "Requirement already satisfied: packaging in /usr/local/lib/python3.7/dist-packages (from keras-tuner) (21.3)\n",
            "Requirement already satisfied: requests in /usr/local/lib/python3.7/dist-packages (from keras-tuner) (2.23.0)\n",
            "Requirement already satisfied: ipython in /usr/local/lib/python3.7/dist-packages (from keras-tuner) (5.5.0)\n",
            "Requirement already satisfied: scipy in /usr/local/lib/python3.7/dist-packages (from keras-tuner) (1.4.1)\n",
            "Requirement already satisfied: decorator in /usr/local/lib/python3.7/dist-packages (from ipython->keras-tuner) (4.4.2)\n",
            "Requirement already satisfied: prompt-toolkit<2.0.0,>=1.0.4 in /usr/local/lib/python3.7/dist-packages (from ipython->keras-tuner) (1.0.18)\n",
            "Requirement already satisfied: pexpect in /usr/local/lib/python3.7/dist-packages (from ipython->keras-tuner) (4.8.0)\n",
            "Requirement already satisfied: pickleshare in /usr/local/lib/python3.7/dist-packages (from ipython->keras-tuner) (0.7.5)\n",
            "Requirement already satisfied: setuptools>=18.5 in /usr/local/lib/python3.7/dist-packages (from ipython->keras-tuner) (57.4.0)\n",
            "Requirement already satisfied: pygments in /usr/local/lib/python3.7/dist-packages (from ipython->keras-tuner) (2.6.1)\n",
            "Requirement already satisfied: simplegeneric>0.8 in /usr/local/lib/python3.7/dist-packages (from ipython->keras-tuner) (0.8.1)\n",
            "Requirement already satisfied: traitlets>=4.2 in /usr/local/lib/python3.7/dist-packages (from ipython->keras-tuner) (5.1.1)\n",
            "Requirement already satisfied: six>=1.9.0 in /usr/local/lib/python3.7/dist-packages (from prompt-toolkit<2.0.0,>=1.0.4->ipython->keras-tuner) (1.15.0)\n",
            "Requirement already satisfied: wcwidth in /usr/local/lib/python3.7/dist-packages (from prompt-toolkit<2.0.0,>=1.0.4->ipython->keras-tuner) (0.2.5)\n",
            "Requirement already satisfied: pyparsing!=3.0.5,>=2.0.2 in /usr/local/lib/python3.7/dist-packages (from packaging->keras-tuner) (3.0.7)\n",
            "Requirement already satisfied: ptyprocess>=0.5 in /usr/local/lib/python3.7/dist-packages (from pexpect->ipython->keras-tuner) (0.7.0)\n",
            "Requirement already satisfied: urllib3!=1.25.0,!=1.25.1,<1.26,>=1.21.1 in /usr/local/lib/python3.7/dist-packages (from requests->keras-tuner) (1.24.3)\n",
            "Requirement already satisfied: idna<3,>=2.5 in /usr/local/lib/python3.7/dist-packages (from requests->keras-tuner) (2.10)\n",
            "Requirement already satisfied: certifi>=2017.4.17 in /usr/local/lib/python3.7/dist-packages (from requests->keras-tuner) (2021.10.8)\n",
            "Requirement already satisfied: chardet<4,>=3.0.2 in /usr/local/lib/python3.7/dist-packages (from requests->keras-tuner) (3.0.4)\n",
            "Requirement already satisfied: google-auth-oauthlib<0.5,>=0.4.1 in /usr/local/lib/python3.7/dist-packages (from tensorboard->keras-tuner) (0.4.6)\n",
            "Requirement already satisfied: wheel>=0.26 in /usr/local/lib/python3.7/dist-packages (from tensorboard->keras-tuner) (0.37.1)\n",
            "Requirement already satisfied: werkzeug>=0.11.15 in /usr/local/lib/python3.7/dist-packages (from tensorboard->keras-tuner) (1.0.1)\n",
            "Requirement already satisfied: absl-py>=0.4 in /usr/local/lib/python3.7/dist-packages (from tensorboard->keras-tuner) (1.0.0)\n",
            "Requirement already satisfied: grpcio>=1.24.3 in /usr/local/lib/python3.7/dist-packages (from tensorboard->keras-tuner) (1.43.0)\n",
            "Requirement already satisfied: google-auth<3,>=1.6.3 in /usr/local/lib/python3.7/dist-packages (from tensorboard->keras-tuner) (1.35.0)\n",
            "Requirement already satisfied: tensorboard-data-server<0.7.0,>=0.6.0 in /usr/local/lib/python3.7/dist-packages (from tensorboard->keras-tuner) (0.6.1)\n",
            "Requirement already satisfied: tensorboard-plugin-wit>=1.6.0 in /usr/local/lib/python3.7/dist-packages (from tensorboard->keras-tuner) (1.8.1)\n",
            "Requirement already satisfied: protobuf>=3.6.0 in /usr/local/lib/python3.7/dist-packages (from tensorboard->keras-tuner) (3.17.3)\n",
            "Requirement already satisfied: markdown>=2.6.8 in /usr/local/lib/python3.7/dist-packages (from tensorboard->keras-tuner) (3.3.6)\n",
            "Requirement already satisfied: rsa<5,>=3.1.4 in /usr/local/lib/python3.7/dist-packages (from google-auth<3,>=1.6.3->tensorboard->keras-tuner) (4.8)\n",
            "Requirement already satisfied: pyasn1-modules>=0.2.1 in /usr/local/lib/python3.7/dist-packages (from google-auth<3,>=1.6.3->tensorboard->keras-tuner) (0.2.8)\n",
            "Requirement already satisfied: cachetools<5.0,>=2.0.0 in /usr/local/lib/python3.7/dist-packages (from google-auth<3,>=1.6.3->tensorboard->keras-tuner) (4.2.4)\n",
            "Requirement already satisfied: requests-oauthlib>=0.7.0 in /usr/local/lib/python3.7/dist-packages (from google-auth-oauthlib<0.5,>=0.4.1->tensorboard->keras-tuner) (1.3.0)\n",
            "Requirement already satisfied: importlib-metadata>=4.4 in /usr/local/lib/python3.7/dist-packages (from markdown>=2.6.8->tensorboard->keras-tuner) (4.10.1)\n",
            "Requirement already satisfied: zipp>=0.5 in /usr/local/lib/python3.7/dist-packages (from importlib-metadata>=4.4->markdown>=2.6.8->tensorboard->keras-tuner) (3.7.0)\n",
            "Requirement already satisfied: typing-extensions>=3.6.4 in /usr/local/lib/python3.7/dist-packages (from importlib-metadata>=4.4->markdown>=2.6.8->tensorboard->keras-tuner) (3.10.0.2)\n",
            "Requirement already satisfied: pyasn1<0.5.0,>=0.4.6 in /usr/local/lib/python3.7/dist-packages (from pyasn1-modules>=0.2.1->google-auth<3,>=1.6.3->tensorboard->keras-tuner) (0.4.8)\n",
            "Requirement already satisfied: oauthlib>=3.0.0 in /usr/local/lib/python3.7/dist-packages (from requests-oauthlib>=0.7.0->google-auth-oauthlib<0.5,>=0.4.1->tensorboard->keras-tuner) (3.1.1)\n"
          ]
        }
      ]
    },
    {
      "cell_type": "code",
      "execution_count": 2,
      "metadata": {
        "id": "2vosQ-Bf9TgL"
      },
      "outputs": [],
      "source": [
        "import pandas as pd\n",
        "from tensorflow import keras\n",
        "from tensorflow.keras import layers\n",
        "from keras_tuner.tuners import RandomSearch\n",
        "from tensorflow.keras.datasets import boston_housing"
      ]
    },
    {
      "cell_type": "code",
      "source": [
        "(x_train, y_train), (x_test, y_test) = boston_housing.load_data()"
      ],
      "metadata": {
        "id": "m_Vj6X7b9d6h"
      },
      "execution_count": 3,
      "outputs": []
    },
    {
      "cell_type": "code",
      "source": [
        "x_train.shape"
      ],
      "metadata": {
        "id": "MfJof4Ng9hTk",
        "colab": {
          "base_uri": "https://localhost:8080/"
        },
        "outputId": "0f6a6b80-6d4d-4de9-dcb0-bbb757877aa0"
      },
      "execution_count": 4,
      "outputs": [
        {
          "output_type": "execute_result",
          "data": {
            "text/plain": [
              "(404, 13)"
            ]
          },
          "metadata": {},
          "execution_count": 4
        }
      ]
    },
    {
      "cell_type": "markdown",
      "source": [
        "# Set Hyperparameters using Keras Tuner and Build Model"
      ],
      "metadata": {
        "id": "FbAXBRob9pps"
      }
    },
    {
      "cell_type": "code",
      "source": [
        "def build_model(hp):\n",
        "    model = keras.Sequential()\n",
        "    for i in range(hp.Int('num_layers', 2, 20)):\n",
        "        if i==0:\n",
        "            model.add(layers.Dense(units=hp.Int('units_' + str(i), min_value=32,max_value=512,step=32),activation='sigmoid',input_shape=(13,)))\n",
        "        else:\n",
        "            model.add(layers.Dense(units=hp.Int('units_' + str(i), min_value=32,max_value=512,step=32),activation='sigmoid'))\n",
        "    model.add(layers.Dense(1, activation='linear'))\n",
        "    model.compile(\n",
        "        optimizer=keras.optimizers.Adam(learning_rate=0.01),\n",
        "        loss=keras.losses.MeanSquaredError(),\n",
        "        metrics=[keras.metrics.MeanSquaredError()])\n",
        "    return model"
      ],
      "metadata": {
        "id": "AWBvwEXK9i3c"
      },
      "execution_count": 5,
      "outputs": []
    },
    {
      "cell_type": "code",
      "source": [
        "tuner = RandomSearch(\n",
        "    build_model,\n",
        "    objective='mean_squared_error',\n",
        "    max_trials=5,\n",
        "    executions_per_trial=3,\n",
        "    directory='project',\n",
        "    project_name='Housing Boston')"
      ],
      "metadata": {
        "id": "RQIxJrVo9i68"
      },
      "execution_count": 6,
      "outputs": []
    },
    {
      "cell_type": "code",
      "source": [
        "tuner.search(x_train, y_train,epochs=5)"
      ],
      "metadata": {
        "id": "Xb84GGJU9i9-",
        "colab": {
          "base_uri": "https://localhost:8080/"
        },
        "outputId": "cad246c8-21ea-44dd-c06f-2be77dd5cb0f"
      },
      "execution_count": 7,
      "outputs": [
        {
          "output_type": "stream",
          "name": "stdout",
          "text": [
            "Trial 5 Complete [00h 00m 07s]\n",
            "mean_squared_error: 84.82774861653645\n",
            "\n",
            "Best mean_squared_error So Far: 84.82774861653645\n",
            "Total elapsed time: 00h 00m 38s\n",
            "INFO:tensorflow:Oracle triggered exit\n"
          ]
        }
      ]
    },
    {
      "cell_type": "code",
      "source": [
        "tuner.results_summary()"
      ],
      "metadata": {
        "id": "v8D3e01i9jBf",
        "colab": {
          "base_uri": "https://localhost:8080/"
        },
        "outputId": "e936a780-30d2-405e-aaeb-02d4efa20a88"
      },
      "execution_count": 8,
      "outputs": [
        {
          "output_type": "stream",
          "name": "stdout",
          "text": [
            "Results summary\n",
            "Results in project/Housing Boston\n",
            "Showing 10 best trials\n",
            "Objective(name='mean_squared_error', direction='min')\n",
            "Trial summary\n",
            "Hyperparameters:\n",
            "num_layers: 14\n",
            "units_0: 288\n",
            "units_1: 480\n",
            "units_2: 224\n",
            "units_3: 64\n",
            "units_4: 320\n",
            "units_5: 480\n",
            "units_6: 416\n",
            "units_7: 448\n",
            "units_8: 512\n",
            "units_9: 32\n",
            "units_10: 288\n",
            "units_11: 448\n",
            "units_12: 192\n",
            "units_13: 192\n",
            "units_14: 416\n",
            "units_15: 320\n",
            "units_16: 448\n",
            "units_17: 448\n",
            "units_18: 64\n",
            "Score: 84.82774861653645\n",
            "Trial summary\n",
            "Hyperparameters:\n",
            "num_layers: 9\n",
            "units_0: 352\n",
            "units_1: 448\n",
            "units_2: 128\n",
            "units_3: 288\n",
            "units_4: 320\n",
            "units_5: 32\n",
            "units_6: 320\n",
            "units_7: 512\n",
            "units_8: 480\n",
            "units_9: 96\n",
            "units_10: 448\n",
            "units_11: 352\n",
            "units_12: 416\n",
            "units_13: 480\n",
            "units_14: 384\n",
            "units_15: 64\n",
            "Score: 84.94204966227214\n",
            "Trial summary\n",
            "Hyperparameters:\n",
            "num_layers: 9\n",
            "units_0: 64\n",
            "units_1: 320\n",
            "units_2: 480\n",
            "units_3: 128\n",
            "units_4: 224\n",
            "units_5: 448\n",
            "units_6: 288\n",
            "units_7: 160\n",
            "units_8: 192\n",
            "units_9: 96\n",
            "units_10: 320\n",
            "units_11: 160\n",
            "units_12: 480\n",
            "units_13: 320\n",
            "units_14: 160\n",
            "units_15: 160\n",
            "units_16: 288\n",
            "units_17: 384\n",
            "units_18: 160\n",
            "Score: 85.12297821044922\n",
            "Trial summary\n",
            "Hyperparameters:\n",
            "num_layers: 16\n",
            "units_0: 128\n",
            "units_1: 384\n",
            "units_2: 32\n",
            "units_3: 32\n",
            "units_4: 32\n",
            "units_5: 32\n",
            "units_6: 32\n",
            "units_7: 32\n",
            "units_8: 32\n",
            "units_9: 32\n",
            "units_10: 32\n",
            "units_11: 32\n",
            "units_12: 32\n",
            "units_13: 32\n",
            "units_14: 32\n",
            "units_15: 32\n",
            "Score: 152.72653198242188\n",
            "Trial summary\n",
            "Hyperparameters:\n",
            "num_layers: 19\n",
            "units_0: 256\n",
            "units_1: 128\n",
            "units_2: 384\n",
            "units_3: 448\n",
            "units_4: 128\n",
            "units_5: 96\n",
            "units_6: 192\n",
            "units_7: 96\n",
            "units_8: 448\n",
            "units_9: 384\n",
            "units_10: 320\n",
            "units_11: 96\n",
            "units_12: 256\n",
            "units_13: 288\n",
            "units_14: 448\n",
            "units_15: 384\n",
            "units_16: 32\n",
            "units_17: 32\n",
            "units_18: 32\n",
            "Score: 181.31525675455728\n"
          ]
        }
      ]
    },
    {
      "cell_type": "markdown",
      "source": [
        "# Selecting the best model from Tuner"
      ],
      "metadata": {
        "id": "Fx2SYqbY9zKp"
      }
    },
    {
      "cell_type": "code",
      "source": [
        "model=tuner.get_best_models(num_models=1)[0]"
      ],
      "metadata": {
        "id": "2ueIpt9B9jEd"
      },
      "execution_count": 9,
      "outputs": []
    },
    {
      "cell_type": "markdown",
      "source": [
        "# Model Summary"
      ],
      "metadata": {
        "id": "EE1jXkHB91u4"
      }
    },
    {
      "cell_type": "code",
      "source": [
        "model.summary()"
      ],
      "metadata": {
        "id": "PitMn1aN9jHw",
        "colab": {
          "base_uri": "https://localhost:8080/"
        },
        "outputId": "5a652294-094a-41ed-f4f3-1c6f6a914bbb"
      },
      "execution_count": 10,
      "outputs": [
        {
          "output_type": "stream",
          "name": "stdout",
          "text": [
            "Model: \"sequential\"\n",
            "_________________________________________________________________\n",
            " Layer (type)                Output Shape              Param #   \n",
            "=================================================================\n",
            " dense (Dense)               (None, 288)               4032      \n",
            "                                                                 \n",
            " dense_1 (Dense)             (None, 480)               138720    \n",
            "                                                                 \n",
            " dense_2 (Dense)             (None, 224)               107744    \n",
            "                                                                 \n",
            " dense_3 (Dense)             (None, 64)                14400     \n",
            "                                                                 \n",
            " dense_4 (Dense)             (None, 320)               20800     \n",
            "                                                                 \n",
            " dense_5 (Dense)             (None, 480)               154080    \n",
            "                                                                 \n",
            " dense_6 (Dense)             (None, 416)               200096    \n",
            "                                                                 \n",
            " dense_7 (Dense)             (None, 448)               186816    \n",
            "                                                                 \n",
            " dense_8 (Dense)             (None, 512)               229888    \n",
            "                                                                 \n",
            " dense_9 (Dense)             (None, 32)                16416     \n",
            "                                                                 \n",
            " dense_10 (Dense)            (None, 288)               9504      \n",
            "                                                                 \n",
            " dense_11 (Dense)            (None, 448)               129472    \n",
            "                                                                 \n",
            " dense_12 (Dense)            (None, 192)               86208     \n",
            "                                                                 \n",
            " dense_13 (Dense)            (None, 192)               37056     \n",
            "                                                                 \n",
            " dense_14 (Dense)            (None, 1)                 193       \n",
            "                                                                 \n",
            "=================================================================\n",
            "Total params: 1,335,425\n",
            "Trainable params: 1,335,425\n",
            "Non-trainable params: 0\n",
            "_________________________________________________________________\n"
          ]
        }
      ]
    },
    {
      "cell_type": "markdown",
      "source": [
        "# Evaluating the Model"
      ],
      "metadata": {
        "id": "bQ4Pwovp97Cd"
      }
    },
    {
      "cell_type": "code",
      "source": [
        "model.evaluate(x_test,y_test)"
      ],
      "metadata": {
        "id": "M5nzOdqw9jKw",
        "colab": {
          "base_uri": "https://localhost:8080/"
        },
        "outputId": "729b8fde-d8e0-4ec2-9591-8a3bda6419b9"
      },
      "execution_count": 11,
      "outputs": [
        {
          "output_type": "stream",
          "name": "stdout",
          "text": [
            "4/4 [==============================] - 0s 6ms/step - loss: 85.2188 - mean_squared_error: 85.2188\n"
          ]
        },
        {
          "output_type": "execute_result",
          "data": {
            "text/plain": [
              "[85.21875, 85.21875]"
            ]
          },
          "metadata": {},
          "execution_count": 11
        }
      ]
    },
    {
      "cell_type": "code",
      "source": [
        ""
      ],
      "metadata": {
        "id": "ClkZxCo-I-NG"
      },
      "execution_count": 11,
      "outputs": []
    }
  ]
}